{
 "cells": [
  {
   "cell_type": "markdown",
   "id": "suitable-packaging",
   "metadata": {},
   "source": []
  },
  {
   "cell_type": "code",
   "execution_count": 7,
   "id": "weighted-essex",
   "metadata": {},
   "outputs": [],
   "source": [
    "import os\n",
    "from os.path import exists, isfile, join\n",
    "import numpy as np\n",
    "import pandas as pd\n",
    "import matplotlib.pyplot as plt\n",
    "import matplotlib\n",
    "from pkg_resources import resource_stream, resource_filename, resource_exists\n",
    "\n",
    "from Bio import SeqIO\n",
    "from Bio.PDB import PDBList\n",
    "\n",
    "import tensorflow as tf\n",
    "from tensorflow.keras.models import load_model\n",
    "from tensorflow.keras import Model\n",
    "\n",
    "import subprocess\n",
    "\n",
    "from deepet.utils import to_binary, zero_padding\n",
    "from deepet import my_callbacks\n",
    "\n",
    "import argparse"
   ]
  },
  {
   "cell_type": "markdown",
   "id": "copyrighted-alfred",
   "metadata": {},
   "source": [
    "### Example usage, obtain embeddings for sequences in fasta file"
   ]
  },
  {
   "cell_type": "code",
   "execution_count": 5,
   "id": "inappropriate-poland",
   "metadata": {},
   "outputs": [],
   "source": [
    "from deepet.run_inference import DeepETInference\n",
    "inf_obj = DeepETInference(model='ogt', layer='flatten_1')\n",
    "df = inf_obj.run_inference(filepath='./data/5.5.1.5.fasta')\n",
    "df.to_csv('my_sequences_predictions.tsv', sep='\\t')"
   ]
  },
  {
   "cell_type": "code",
   "execution_count": 4,
   "id": "arranged-substitute",
   "metadata": {},
   "outputs": [],
   "source": [
    "from deepet.run_inference import DeepETInference\n",
    "inf_obj = DeepETInference(model='ogt', layer='flatten_1')\n",
    "df = inf_obj.get_embeddings(filepath='./data/5.5.1.5.fasta')\n",
    "df.to_csv('my_sequences_embeddings.tsv', sep='\\t')"
   ]
  },
  {
   "cell_type": "code",
   "execution_count": null,
   "id": "conventional-marina",
   "metadata": {},
   "outputs": [],
   "source": []
  },
  {
   "cell_type": "code",
   "execution_count": null,
   "id": "unlikely-workstation",
   "metadata": {},
   "outputs": [],
   "source": []
  },
  {
   "cell_type": "code",
   "execution_count": 2,
   "id": "amber-frank",
   "metadata": {},
   "outputs": [
    {
     "name": "stdout",
     "output_type": "stream",
     "text": [
      "WARNING:tensorflow:From /home/martin/miniconda3/envs/deepet/lib/python3.6/site-packages/tensorflow_core/python/ops/resource_variable_ops.py:1630: calling BaseResourceVariable.__init__ (from tensorflow.python.ops.resource_variable_ops) with constraint is deprecated and will be removed in a future version.\n",
      "Instructions for updating:\n",
      "If using Keras pass *_constraint arguments to layers.\n"
     ]
    }
   ],
   "source": [
    "from deepet.run_inference import DeepETInference\n",
    "seq = 'MPSPMEDIEEILITEEQLKAKVKELGEMITRDYEGKDLVLIGVLKGAIMFMSDLSRAIDLPLSIDFMAVSSYGSSTKSSGIVKIIKDHDIDIEGKDVLIVEDIIDSGLTLAYLRETLLGRKPRSLKICTILDKPERREADVKVDYCGFKIPDKFVVGYGLDYAEKYRNLPFIGVLKPELYK'\n",
    "inf_obj = DeepETInference(model='ogt', layer='flatten_1')\n",
    "wt, change, z_score = inf_obj.occlusion_1d(seq, window=3)"
   ]
  },
  {
   "cell_type": "markdown",
   "id": "noticed-sound",
   "metadata": {},
   "source": [
    "### What does the model look at to determine temperature?"
   ]
  },
  {
   "cell_type": "code",
   "execution_count": 4,
   "id": "thermal-gossip",
   "metadata": {},
   "outputs": [
    {
     "data": {
      "text/plain": [
       "[<matplotlib.lines.Line2D at 0x7fadf8731978>]"
      ]
     },
     "execution_count": 4,
     "metadata": {},
     "output_type": "execute_result"
    },
    {
     "data": {
      "image/png": "[encoded data removed]",
      "text/plain": [
       "<Figure size 432x288 with 1 Axes>"
      ]
     },
     "metadata": {
      "needs_background": "light"
     },
     "output_type": "display_data"
    }
   ],
   "source": [
    "plt.plot(z_score)"
   ]
  },
  {
   "cell_type": "code",
   "execution_count": null,
   "id": "regional-central",
   "metadata": {},
   "outputs": [],
   "source": []
  },
  {
   "cell_type": "code",
   "execution_count": 10,
   "id": "double-pride",
   "metadata": {},
   "outputs": [],
   "source": [
    "outlines = []\n",
    "outlines.append('bg_color white')\n",
    "outlines.append('as cartoon')\n",
    "outlines.append('set cartoon_discrete_colors, 1')\n",
    "outlines.append('set cartoon_oval_length, 1.0')\n",
    "outlines.append('set cartoon_oval_width, 0.2')\n",
    "outlines.append('set ray_trace_mode, 1')\n",
    "outlines.append('set ray_trace_gain, 0.1')\n",
    "outlines.append('set ray_shadows, 0')\n",
    "outlines.append('set ambient, 2')\n",
    "outlines.append('set antialias, 3')\n",
    "outlines.append('unset specular')\n",
    "\n",
    "# prepare the colormap\n",
    "cmap = matplotlib.cm.get_cmap('bwr')\n",
    "\n",
    "# a data normalizer\n",
    "norm = matplotlib.colors.Normalize(vmin=-abs(z_score).max(), vmax=abs(z_score).max())\n",
    "\n",
    "for i in range(0, len(seq)):\n",
    "    # get the rgba color for this value\n",
    "    if i < len(z_score):\n",
    "        val = z_score[i]\n",
    "        rgba = cmap(norm(val))\n",
    "\n",
    "        # convert to hex\n",
    "        hex_col = matplotlib.colors.to_hex(rgba, keep_alpha=False)\n",
    "        color = hex_col.upper().replace('#', '0x')\n",
    "        \n",
    "    else:\n",
    "        color = '0xFFFFFF'\n",
    "    \n",
    "    # color by category\n",
    "    outlines.append('color {}, resi {}'.format(color, i+1))\n",
    "        \n",
    "# hide hydeogen atoms\n",
    "outlines.append('hide (hydro)')\n",
    "\n",
    "with open('1r3u_pymol_coloring_script_z-score.pml', 'w') as f:\n",
    "    f.write('\\n'.join(outlines))"
   ]
  },
  {
   "cell_type": "code",
   "execution_count": null,
   "id": "present-option",
   "metadata": {},
   "outputs": [],
   "source": []
  },
  {
   "cell_type": "code",
   "execution_count": null,
   "id": "existing-worthy",
   "metadata": {},
   "outputs": [],
   "source": []
  }
 ],
 "metadata": {
  "kernelspec": {
   "display_name": "Python 3",
   "language": "python",
   "name": "python3"
  },
  "language_info": {
   "codemirror_mode": {
    "name": "ipython",
    "version": 3
   },
   "file_extension": ".py",
   "mimetype": "text/x-python",
   "name": "python",
   "nbconvert_exporter": "python",
   "pygments_lexer": "ipython3",
   "version": "3.6.10"
  }
 },
 "nbformat": 4,
 "nbformat_minor": 5
}
