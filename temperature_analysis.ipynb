{
 "cells": [
  {
   "cell_type": "markdown",
   "metadata": {},
   "source": []
  },
  {
   "cell_type": "code",
   "execution_count": 1,
   "metadata": {},
   "outputs": [
    {
     "name": "stderr",
     "output_type": "stream",
     "text": [
      "Using TensorFlow backend.\n"
     ]
    }
   ],
   "source": [
    "import os\n",
    "from os.path import exists, isfile, join\n",
    "import numpy as np\n",
    "import pandas as pd\n",
    "import matplotlib.pyplot as plt\n",
    "import matplotlib\n",
    "from pkg_resources import resource_stream, resource_filename, resource_exists\n",
    "\n",
    "from Bio import SeqIO\n",
    "from Bio.PDB import PDBList\n",
    "\n",
    "from Bio.Seq import Seq\n",
    "from Bio.Align.Applications import MuscleCommandline\n",
    "from Bio import AlignIO\n",
    "from Bio.SeqRecord import SeqRecord\n",
    "from Bio.Alphabet import IUPAC\n",
    "import io\n",
    "\n",
    "import tensorflow as tf\n",
    "from tensorflow.keras.models import load_model\n",
    "from tensorflow.keras import Model\n",
    "\n",
    "import subprocess\n",
    "\n",
    "from deepet.utils import to_binary, zero_padding\n",
    "from deepet import my_callbacks\n",
    "from deepet.run_inference import DeepETInference\n",
    "\n",
    "import splits_helper_functions as splits\n",
    "\n",
    "from tqdm import tqdm"
   ]
  },
  {
   "cell_type": "markdown",
   "metadata": {},
   "source": [
    "## Example usage, obtain embeddings for sequences in fasta file"
   ]
  },
  {
   "cell_type": "code",
   "execution_count": 5,
   "metadata": {},
   "outputs": [],
   "source": [
    "inf_obj = DeepETInference(model='ogt', layer='flatten_1')\n",
    "df = inf_obj.run_inference(filepath='./data/5.5.1.5.fasta')\n",
    "df.to_csv('my_sequences_predictions.tsv', sep='\\t')"
   ]
  },
  {
   "cell_type": "code",
   "execution_count": 4,
   "metadata": {},
   "outputs": [],
   "source": [
    "inf_obj = DeepETInference(model='ogt', layer='flatten_1')\n",
    "df = inf_obj.get_embeddings(filepath='./data/5.5.1.5.fasta')\n",
    "df.to_csv('my_sequences_embeddings.tsv', sep='\\t')"
   ]
  },
  {
   "cell_type": "code",
   "execution_count": null,
   "metadata": {},
   "outputs": [],
   "source": []
  },
  {
   "cell_type": "markdown",
   "metadata": {},
   "source": [
    "## Occlusion"
   ]
  },
  {
   "cell_type": "markdown",
   "metadata": {},
   "source": [
    "#### First cluster sequences"
   ]
  },
  {
   "cell_type": "code",
   "execution_count": 2,
   "metadata": {},
   "outputs": [
    {
     "data": {
      "text/html": [
       "<div>\n",
       "<style scoped>\n",
       "    .dataframe tbody tr th:only-of-type {\n",
       "        vertical-align: middle;\n",
       "    }\n",
       "\n",
       "    .dataframe tbody tr th {\n",
       "        vertical-align: top;\n",
       "    }\n",
       "\n",
       "    .dataframe thead th {\n",
       "        text-align: right;\n",
       "    }\n",
       "</style>\n",
       "<table border=\"1\" class=\"dataframe\">\n",
       "  <thead>\n",
       "    <tr style=\"text-align: right;\">\n",
       "      <th></th>\n",
       "      <th>cluster</th>\n",
       "    </tr>\n",
       "  </thead>\n",
       "  <tbody>\n",
       "    <tr>\n",
       "      <th>count</th>\n",
       "      <td>1554.000000</td>\n",
       "    </tr>\n",
       "    <tr>\n",
       "      <th>mean</th>\n",
       "      <td>547.230373</td>\n",
       "    </tr>\n",
       "    <tr>\n",
       "      <th>std</th>\n",
       "      <td>324.402449</td>\n",
       "    </tr>\n",
       "    <tr>\n",
       "      <th>min</th>\n",
       "      <td>0.000000</td>\n",
       "    </tr>\n",
       "    <tr>\n",
       "      <th>25%</th>\n",
       "      <td>271.250000</td>\n",
       "    </tr>\n",
       "    <tr>\n",
       "      <th>50%</th>\n",
       "      <td>527.500000</td>\n",
       "    </tr>\n",
       "    <tr>\n",
       "      <th>75%</th>\n",
       "      <td>814.750000</td>\n",
       "    </tr>\n",
       "    <tr>\n",
       "      <th>max</th>\n",
       "      <td>1145.000000</td>\n",
       "    </tr>\n",
       "  </tbody>\n",
       "</table>\n",
       "</div>"
      ],
      "text/plain": [
       "           cluster\n",
       "count  1554.000000\n",
       "mean    547.230373\n",
       "std     324.402449\n",
       "min       0.000000\n",
       "25%     271.250000\n",
       "50%     527.500000\n",
       "75%     814.750000\n",
       "max    1145.000000"
      ]
     },
     "metadata": {},
     "output_type": "display_data"
    },
    {
     "data": {
      "text/html": [
       "<div>\n",
       "<style scoped>\n",
       "    .dataframe tbody tr th:only-of-type {\n",
       "        vertical-align: middle;\n",
       "    }\n",
       "\n",
       "    .dataframe tbody tr th {\n",
       "        vertical-align: top;\n",
       "    }\n",
       "\n",
       "    .dataframe thead th {\n",
       "        text-align: right;\n",
       "    }\n",
       "</style>\n",
       "<table border=\"1\" class=\"dataframe\">\n",
       "  <thead>\n",
       "    <tr style=\"text-align: right;\">\n",
       "      <th></th>\n",
       "      <th>cluster</th>\n",
       "      <th>member</th>\n",
       "    </tr>\n",
       "  </thead>\n",
       "  <tbody>\n",
       "    <tr>\n",
       "      <th>0</th>\n",
       "      <td>0</td>\n",
       "      <td>P0C6V1;ogt=nan;topt=22.0</td>\n",
       "    </tr>\n",
       "    <tr>\n",
       "      <th>1</th>\n",
       "      <td>1</td>\n",
       "      <td>P29837;ogt=nan;topt=22.0</td>\n",
       "    </tr>\n",
       "    <tr>\n",
       "      <th>2</th>\n",
       "      <td>2</td>\n",
       "      <td>Q91NH1;ogt=nan;topt=37.0</td>\n",
       "    </tr>\n",
       "    <tr>\n",
       "      <th>3</th>\n",
       "      <td>2</td>\n",
       "      <td>Q6YMS4;ogt=nan;topt=22.0</td>\n",
       "    </tr>\n",
       "    <tr>\n",
       "      <th>4</th>\n",
       "      <td>3</td>\n",
       "      <td>P27411;ogt=nan;topt=43.0</td>\n",
       "    </tr>\n",
       "  </tbody>\n",
       "</table>\n",
       "</div>"
      ],
      "text/plain": [
       "   cluster                    member\n",
       "0        0  P0C6V1;ogt=nan;topt=22.0\n",
       "1        1  P29837;ogt=nan;topt=22.0\n",
       "2        2  Q91NH1;ogt=nan;topt=37.0\n",
       "3        2  Q6YMS4;ogt=nan;topt=22.0\n",
       "4        3  P27411;ogt=nan;topt=43.0"
      ]
     },
     "metadata": {},
     "output_type": "display_data"
    },
    {
     "data": {
      "text/html": [
       "<div>\n",
       "<style scoped>\n",
       "    .dataframe tbody tr th:only-of-type {\n",
       "        vertical-align: middle;\n",
       "    }\n",
       "\n",
       "    .dataframe tbody tr th {\n",
       "        vertical-align: top;\n",
       "    }\n",
       "\n",
       "    .dataframe thead th {\n",
       "        text-align: right;\n",
       "    }\n",
       "</style>\n",
       "<table border=\"1\" class=\"dataframe\">\n",
       "  <thead>\n",
       "    <tr style=\"text-align: right;\">\n",
       "      <th></th>\n",
       "      <th>cluster</th>\n",
       "      <th>member</th>\n",
       "    </tr>\n",
       "  </thead>\n",
       "  <tbody>\n",
       "    <tr>\n",
       "      <th>1549</th>\n",
       "      <td>1142</td>\n",
       "      <td>Q75UV1;ogt=71;topt=70.0</td>\n",
       "    </tr>\n",
       "    <tr>\n",
       "      <th>1550</th>\n",
       "      <td>1143</td>\n",
       "      <td>B1Q4S7;ogt=25;topt=70.0</td>\n",
       "    </tr>\n",
       "    <tr>\n",
       "      <th>1551</th>\n",
       "      <td>1143</td>\n",
       "      <td>B1Q4V2;ogt=24;topt=68.0</td>\n",
       "    </tr>\n",
       "    <tr>\n",
       "      <th>1552</th>\n",
       "      <td>1144</td>\n",
       "      <td>P0A2W7;ogt=nan;topt=48.0</td>\n",
       "    </tr>\n",
       "    <tr>\n",
       "      <th>1553</th>\n",
       "      <td>1145</td>\n",
       "      <td>B3EWP2;ogt=nan;topt=37.0</td>\n",
       "    </tr>\n",
       "  </tbody>\n",
       "</table>\n",
       "</div>"
      ],
      "text/plain": [
       "      cluster                    member\n",
       "1549     1142   Q75UV1;ogt=71;topt=70.0\n",
       "1550     1143   B1Q4S7;ogt=25;topt=70.0\n",
       "1551     1143   B1Q4V2;ogt=24;topt=68.0\n",
       "1552     1144  P0A2W7;ogt=nan;topt=48.0\n",
       "1553     1145  B3EWP2;ogt=nan;topt=37.0"
      ]
     },
     "metadata": {},
     "output_type": "display_data"
    }
   ],
   "source": [
    "cluster_folder = join('./data', 'clusters')\n",
    "if not exists(cluster_folder):\n",
    "    os.makedirs(cluster_folder)\n",
    "    \n",
    "    \n",
    "# cluster the fasta files\n",
    "start_folder = './data'\n",
    "splits.cluster_all_levels(start_folder, \n",
    "                   cluster_folder, \n",
    "                   filename='cleaned_enzyme_topts_with_structures')\n",
    "\n",
    "# collect cluster members\n",
    "df = splits.find_cluster_members(folder=cluster_folder, \n",
    "                          filename='cleaned_enzyme_topts_with_structures')\n",
    "df.columns\n",
    "display(df.describe())\n",
    "display(df.head())\n",
    "display(df.tail())"
   ]
  },
  {
   "cell_type": "markdown",
   "metadata": {},
   "source": [
    "#### Split the header to get UniProt id, OGT, and Topt"
   ]
  },
  {
   "cell_type": "code",
   "execution_count": 3,
   "metadata": {},
   "outputs": [
    {
     "data": {
      "text/html": [
       "<div>\n",
       "<style scoped>\n",
       "    .dataframe tbody tr th:only-of-type {\n",
       "        vertical-align: middle;\n",
       "    }\n",
       "\n",
       "    .dataframe tbody tr th {\n",
       "        vertical-align: top;\n",
       "    }\n",
       "\n",
       "    .dataframe thead th {\n",
       "        text-align: right;\n",
       "    }\n",
       "</style>\n",
       "<table border=\"1\" class=\"dataframe\">\n",
       "  <thead>\n",
       "    <tr style=\"text-align: right;\">\n",
       "      <th></th>\n",
       "      <th>cluster</th>\n",
       "      <th>member</th>\n",
       "      <th>uid</th>\n",
       "      <th>ogt</th>\n",
       "      <th>topt</th>\n",
       "    </tr>\n",
       "  </thead>\n",
       "  <tbody>\n",
       "    <tr>\n",
       "      <th>0</th>\n",
       "      <td>0</td>\n",
       "      <td>P0C6V1;ogt=nan;topt=22.0</td>\n",
       "      <td>P0C6V1</td>\n",
       "      <td>ogt=nan</td>\n",
       "      <td>topt=22.0</td>\n",
       "    </tr>\n",
       "    <tr>\n",
       "      <th>1</th>\n",
       "      <td>1</td>\n",
       "      <td>P29837;ogt=nan;topt=22.0</td>\n",
       "      <td>P29837</td>\n",
       "      <td>ogt=nan</td>\n",
       "      <td>topt=22.0</td>\n",
       "    </tr>\n",
       "    <tr>\n",
       "      <th>2</th>\n",
       "      <td>2</td>\n",
       "      <td>Q91NH1;ogt=nan;topt=37.0</td>\n",
       "      <td>Q91NH1</td>\n",
       "      <td>ogt=nan</td>\n",
       "      <td>topt=37.0</td>\n",
       "    </tr>\n",
       "    <tr>\n",
       "      <th>3</th>\n",
       "      <td>2</td>\n",
       "      <td>Q6YMS4;ogt=nan;topt=22.0</td>\n",
       "      <td>Q6YMS4</td>\n",
       "      <td>ogt=nan</td>\n",
       "      <td>topt=22.0</td>\n",
       "    </tr>\n",
       "    <tr>\n",
       "      <th>4</th>\n",
       "      <td>3</td>\n",
       "      <td>P27411;ogt=nan;topt=43.0</td>\n",
       "      <td>P27411</td>\n",
       "      <td>ogt=nan</td>\n",
       "      <td>topt=43.0</td>\n",
       "    </tr>\n",
       "  </tbody>\n",
       "</table>\n",
       "</div>"
      ],
      "text/plain": [
       "   cluster                    member     uid      ogt       topt\n",
       "0        0  P0C6V1;ogt=nan;topt=22.0  P0C6V1  ogt=nan  topt=22.0\n",
       "1        1  P29837;ogt=nan;topt=22.0  P29837  ogt=nan  topt=22.0\n",
       "2        2  Q91NH1;ogt=nan;topt=37.0  Q91NH1  ogt=nan  topt=37.0\n",
       "3        2  Q6YMS4;ogt=nan;topt=22.0  Q6YMS4  ogt=nan  topt=22.0\n",
       "4        3  P27411;ogt=nan;topt=43.0  P27411  ogt=nan  topt=43.0"
      ]
     },
     "metadata": {},
     "output_type": "display_data"
    },
    {
     "data": {
      "text/html": [
       "<div>\n",
       "<style scoped>\n",
       "    .dataframe tbody tr th:only-of-type {\n",
       "        vertical-align: middle;\n",
       "    }\n",
       "\n",
       "    .dataframe tbody tr th {\n",
       "        vertical-align: top;\n",
       "    }\n",
       "\n",
       "    .dataframe thead th {\n",
       "        text-align: right;\n",
       "    }\n",
       "</style>\n",
       "<table border=\"1\" class=\"dataframe\">\n",
       "  <thead>\n",
       "    <tr style=\"text-align: right;\">\n",
       "      <th></th>\n",
       "      <th>cluster</th>\n",
       "      <th>member</th>\n",
       "      <th>uid</th>\n",
       "      <th>ogt</th>\n",
       "      <th>topt</th>\n",
       "    </tr>\n",
       "  </thead>\n",
       "  <tbody>\n",
       "    <tr>\n",
       "      <th>0</th>\n",
       "      <td>0</td>\n",
       "      <td>P0C6V1;ogt=nan;topt=22.0</td>\n",
       "      <td>P0C6V1</td>\n",
       "      <td>NaN</td>\n",
       "      <td>22.0</td>\n",
       "    </tr>\n",
       "    <tr>\n",
       "      <th>1</th>\n",
       "      <td>1</td>\n",
       "      <td>P29837;ogt=nan;topt=22.0</td>\n",
       "      <td>P29837</td>\n",
       "      <td>NaN</td>\n",
       "      <td>22.0</td>\n",
       "    </tr>\n",
       "    <tr>\n",
       "      <th>2</th>\n",
       "      <td>2</td>\n",
       "      <td>Q91NH1;ogt=nan;topt=37.0</td>\n",
       "      <td>Q91NH1</td>\n",
       "      <td>NaN</td>\n",
       "      <td>37.0</td>\n",
       "    </tr>\n",
       "    <tr>\n",
       "      <th>3</th>\n",
       "      <td>2</td>\n",
       "      <td>Q6YMS4;ogt=nan;topt=22.0</td>\n",
       "      <td>Q6YMS4</td>\n",
       "      <td>NaN</td>\n",
       "      <td>22.0</td>\n",
       "    </tr>\n",
       "    <tr>\n",
       "      <th>4</th>\n",
       "      <td>3</td>\n",
       "      <td>P27411;ogt=nan;topt=43.0</td>\n",
       "      <td>P27411</td>\n",
       "      <td>NaN</td>\n",
       "      <td>43.0</td>\n",
       "    </tr>\n",
       "  </tbody>\n",
       "</table>\n",
       "</div>"
      ],
      "text/plain": [
       "   cluster                    member     uid  ogt  topt\n",
       "0        0  P0C6V1;ogt=nan;topt=22.0  P0C6V1  NaN  22.0\n",
       "1        1  P29837;ogt=nan;topt=22.0  P29837  NaN  22.0\n",
       "2        2  Q91NH1;ogt=nan;topt=37.0  Q91NH1  NaN  37.0\n",
       "3        2  Q6YMS4;ogt=nan;topt=22.0  Q6YMS4  NaN  22.0\n",
       "4        3  P27411;ogt=nan;topt=43.0  P27411  NaN  43.0"
      ]
     },
     "metadata": {},
     "output_type": "display_data"
    }
   ],
   "source": [
    "# split the header and rename\n",
    "df_split = df.join(df.member.str.split(';', expand=True))\n",
    "df_split.columns = ['cluster', 'member', 'uid', 'ogt', 'topt']\n",
    "display(df_split.head())\n",
    "\n",
    "# clean away the labels and convert to float\n",
    "df_split.ogt = df_split.ogt.str.replace('ogt=', '').astype('float')\n",
    "df_split.topt = df_split.topt.str.replace('topt=', '').astype('float')\n",
    "display(df_split.head())"
   ]
  },
  {
   "cell_type": "markdown",
   "metadata": {},
   "source": [
    "#### Which are the largest clusters with OGT?"
   ]
  },
  {
   "cell_type": "code",
   "execution_count": 4,
   "metadata": {},
   "outputs": [
    {
     "data": {
      "text/plain": [
       "432     9\n",
       "748     9\n",
       "327     8\n",
       "455     7\n",
       "506     7\n",
       "139     7\n",
       "371     6\n",
       "1023    6\n",
       "474     5\n",
       "Name: cluster, dtype: int64"
      ]
     },
     "execution_count": 4,
     "metadata": {},
     "output_type": "execute_result"
    }
   ],
   "source": [
    "df_split[df_split.ogt.notnull()].cluster.value_counts().nlargest(9)"
   ]
  },
  {
   "cell_type": "markdown",
   "metadata": {},
   "source": [
    "#### OGT distribution in the largest clusters"
   ]
  },
  {
   "cell_type": "code",
   "execution_count": 5,
   "metadata": {},
   "outputs": [
    {
     "name": "stderr",
     "output_type": "stream",
     "text": [
      "/home/martin/miniconda3/envs/deepet/lib/python3.6/site-packages/numpy/lib/histograms.py:839: RuntimeWarning: invalid value encountered in greater_equal\n",
      "  keep = (tmp_a >= first_edge)\n",
      "/home/martin/miniconda3/envs/deepet/lib/python3.6/site-packages/numpy/lib/histograms.py:840: RuntimeWarning: invalid value encountered in less_equal\n",
      "  keep &= (tmp_a <= last_edge)\n"
     ]
    },
    {
     "data": {
      "image/png": "[encoded data removed]",
      "text/plain": [
       "<Figure size 648x432 with 9 Axes>"
      ]
     },
     "metadata": {
      "needs_background": "light"
     },
     "output_type": "display_data"
    }
   ],
   "source": [
    "fig = plt.figure(figsize=(9, 6))\n",
    "\n",
    "\n",
    "for i, cluster in enumerate(df_split[df_split.ogt.notnull()].cluster.value_counts().nlargest(9).index):\n",
    "    plt.subplot(3, 3, i+1)\n",
    "    p = plt.hist(df_split[df_split.cluster==cluster].ogt, bins=100, range=(0, 100))\n",
    "    plt.xlim((0,100))\n",
    "    plt.ylim((0, 5))\n",
    "    plt.xlabel('OGT')\n",
    "    plt.ylabel('Frequency')\n",
    "    plt.title('cluster {}'.format(cluster), fontsize=8)\n",
    "    \n",
    "plt.tight_layout()"
   ]
  },
  {
   "cell_type": "markdown",
   "metadata": {},
   "source": [
    "#### Which are the largest clusters with Topt?"
   ]
  },
  {
   "cell_type": "code",
   "execution_count": 6,
   "metadata": {},
   "outputs": [
    {
     "data": {
      "text/plain": [
       "748    15\n",
       "432    10\n",
       "327     8\n",
       "139     8\n",
       "455     8\n",
       "474     7\n",
       "69      7\n",
       "371     7\n",
       "332     7\n",
       "Name: cluster, dtype: int64"
      ]
     },
     "execution_count": 6,
     "metadata": {},
     "output_type": "execute_result"
    }
   ],
   "source": [
    "df_split[df_split.topt.notnull()].cluster.value_counts().nlargest(9)"
   ]
  },
  {
   "cell_type": "markdown",
   "metadata": {},
   "source": [
    "#### Topt distribution in the largest clusters"
   ]
  },
  {
   "cell_type": "code",
   "execution_count": 7,
   "metadata": {},
   "outputs": [
    {
     "data": {
      "image/png": "[encoded data removed]",
      "text/plain": [
       "<Figure size 648x432 with 9 Axes>"
      ]
     },
     "metadata": {
      "needs_background": "light"
     },
     "output_type": "display_data"
    }
   ],
   "source": [
    "fig = plt.figure(figsize=(9, 6))\n",
    "\n",
    "\n",
    "for i, cluster in enumerate(df_split[df_split.topt.notnull()].cluster.value_counts().nlargest(9).index):\n",
    "    plt.subplot(3, 3, i+1)\n",
    "    p = plt.hist(df_split[df_split.cluster==cluster].topt, bins=100, range=(0, 100))\n",
    "    plt.xlim((0,100))\n",
    "    plt.ylim((0, 5))\n",
    "    plt.xlabel('Topt')\n",
    "    plt.ylabel('Frequency')\n",
    "    plt.title('cluster {}'.format(cluster), fontsize=8)\n",
    "    \n",
    "plt.tight_layout()"
   ]
  },
  {
   "cell_type": "markdown",
   "metadata": {},
   "source": [
    "#### Sort one of the clusters on temperature"
   ]
  },
  {
   "cell_type": "code",
   "execution_count": 8,
   "metadata": {},
   "outputs": [
    {
     "data": {
      "text/html": [
       "<div>\n",
       "<style scoped>\n",
       "    .dataframe tbody tr th:only-of-type {\n",
       "        vertical-align: middle;\n",
       "    }\n",
       "\n",
       "    .dataframe tbody tr th {\n",
       "        vertical-align: top;\n",
       "    }\n",
       "\n",
       "    .dataframe thead th {\n",
       "        text-align: right;\n",
       "    }\n",
       "</style>\n",
       "<table border=\"1\" class=\"dataframe\">\n",
       "  <thead>\n",
       "    <tr style=\"text-align: right;\">\n",
       "      <th></th>\n",
       "      <th>cluster</th>\n",
       "      <th>member</th>\n",
       "      <th>uid</th>\n",
       "      <th>ogt</th>\n",
       "      <th>topt</th>\n",
       "    </tr>\n",
       "  </thead>\n",
       "  <tbody>\n",
       "    <tr>\n",
       "      <th>701</th>\n",
       "      <td>474</td>\n",
       "      <td>H0HC94;ogt=28;topt=52.5</td>\n",
       "      <td>H0HC94</td>\n",
       "      <td>28.0</td>\n",
       "      <td>52.5</td>\n",
       "    </tr>\n",
       "    <tr>\n",
       "      <th>706</th>\n",
       "      <td>474</td>\n",
       "      <td>Q53EH2;ogt=37;topt=50.0</td>\n",
       "      <td>Q53EH2</td>\n",
       "      <td>37.0</td>\n",
       "      <td>50.0</td>\n",
       "    </tr>\n",
       "    <tr>\n",
       "      <th>707</th>\n",
       "      <td>474</td>\n",
       "      <td>P26208;ogt=56.0;topt=60.0</td>\n",
       "      <td>P26208</td>\n",
       "      <td>56.0</td>\n",
       "      <td>60.0</td>\n",
       "    </tr>\n",
       "    <tr>\n",
       "      <th>705</th>\n",
       "      <td>474</td>\n",
       "      <td>Q0GA07;ogt=71;topt=90.0</td>\n",
       "      <td>Q0GA07</td>\n",
       "      <td>71.0</td>\n",
       "      <td>90.0</td>\n",
       "    </tr>\n",
       "    <tr>\n",
       "      <th>704</th>\n",
       "      <td>474</td>\n",
       "      <td>A5IL97;ogt=75;topt=85.0</td>\n",
       "      <td>A5IL97</td>\n",
       "      <td>75.0</td>\n",
       "      <td>85.0</td>\n",
       "    </tr>\n",
       "  </tbody>\n",
       "</table>\n",
       "</div>"
      ],
      "text/plain": [
       "     cluster                     member     uid   ogt  topt\n",
       "701      474    H0HC94;ogt=28;topt=52.5  H0HC94  28.0  52.5\n",
       "706      474    Q53EH2;ogt=37;topt=50.0  Q53EH2  37.0  50.0\n",
       "707      474  P26208;ogt=56.0;topt=60.0  P26208  56.0  60.0\n",
       "705      474    Q0GA07;ogt=71;topt=90.0  Q0GA07  71.0  90.0\n",
       "704      474    A5IL97;ogt=75;topt=85.0  A5IL97  75.0  85.0"
      ]
     },
     "metadata": {},
     "output_type": "display_data"
    }
   ],
   "source": [
    "cluster = 474\n",
    "df_cluster = df_split[(df_split.ogt.notnull()) & (df_split.cluster==cluster)]\n",
    "df_cluster = df_cluster.sort_values('ogt', inplace=False)\n",
    "display(df_cluster)"
   ]
  },
  {
   "cell_type": "markdown",
   "metadata": {},
   "source": [
    "#### Obtain the sequences"
   ]
  },
  {
   "cell_type": "code",
   "execution_count": 9,
   "metadata": {},
   "outputs": [],
   "source": [
    "def get_sequences(uid_list, fasta_path):\n",
    "    '''\n",
    "    Obtain protein sequences for a list of\n",
    "    UniProt identifiers.\n",
    "    '''\n",
    "    sequences = {}\n",
    "\n",
    "    for record in SeqIO.parse(fasta_path, 'fasta'):\n",
    "        header = record.description\n",
    "        seq = record.seq\n",
    "\n",
    "        uid = header.split(';')[0]\n",
    "        if uid in uid_list:\n",
    "            sequences[uid] = str(record.seq)\n",
    "\n",
    "    # put them in the same order as the data frame\n",
    "    uid_list = []\n",
    "    seq_list = []\n",
    "    for uid in df_cluster.uid.values:\n",
    "        uid_list.append(uid)\n",
    "        seq_list.append(sequences[uid])\n",
    "        \n",
    "    return seq_list\n",
    "\n",
    "fasta_path = join('./data', 'cleaned_enzyme_topts_with_structures.fasta')\n",
    "uid_list = df_cluster.uid.values\n",
    "seq_list = get_sequences(uid_list=uid_list, fasta_path=fasta_path)"
   ]
  },
  {
   "cell_type": "markdown",
   "metadata": {},
   "source": [
    "#### Do sequence occlusion for the collected sequences"
   ]
  },
  {
   "cell_type": "code",
   "execution_count": 17,
   "metadata": {},
   "outputs": [
    {
     "name": "stderr",
     "output_type": "stream",
     "text": [
      "100%|██████████| 5/5 [14:47<00:00, 177.40s/it]\n"
     ]
    }
   ],
   "source": [
    "def occlude(seq_list, window, model):\n",
    "    '''\n",
    "    Cary out occlusion on sequences in the list.\n",
    "    '''\n",
    "    assert model in ['topt', 'ogt']\n",
    "    \n",
    "    inf_obj = DeepETInference(model=model, layer='flatten_1')\n",
    "\n",
    "    preds = []\n",
    "    changes = []\n",
    "    z_scores = []\n",
    "    for seq in tqdm(seq_list):\n",
    "        wt_pred, change, z_score = inf_obj.occlusion_1d(seq, window=window)\n",
    "        preds.append(wt_pred)\n",
    "\n",
    "        # the first two and last three are missing (using window size of 3)\n",
    "        changes.append(np.concatenate([np.array([np.nan for s in range(window-1)]), \n",
    "               change, \n",
    "               np.array([np.nan for s in range(window)])]))\n",
    "        z_scores.append(np.concatenate([np.array([np.nan for s in range(window-1)]), \n",
    "               z_score, \n",
    "               np.array([np.nan for s in range(window)])]))\n",
    "    return preds, changes, z_scores\n",
    "\n",
    "\n",
    "window = 5\n",
    "preds, changes, z_scores = occlude(seq_list, window, model='ogt')"
   ]
  },
  {
   "cell_type": "markdown",
   "metadata": {},
   "source": [
    "#### How good are the predictions for these proteins?"
   ]
  },
  {
   "cell_type": "code",
   "execution_count": 18,
   "metadata": {},
   "outputs": [
    {
     "data": {
      "text/plain": [
       "Text(0.5, 1.0, 'cluster 474')"
      ]
     },
     "execution_count": 18,
     "metadata": {},
     "output_type": "execute_result"
    },
    {
     "data": {
      "image/png": "[encoded data removed]",
      "text/plain": [
       "<Figure size 432x288 with 1 Axes>"
      ]
     },
     "metadata": {
      "needs_background": "light"
     },
     "output_type": "display_data"
    }
   ],
   "source": [
    "plt.scatter(x=preds, y=df_cluster.topt.values)\n",
    "plt.xlim((0,100))\n",
    "plt.ylim((0,100))\n",
    "plt.xlabel('Predicted OGT (C)')\n",
    "plt.ylabel('Measured OGT (C)')\n",
    "plt.title('cluster {}'.format(cluster), fontsize=8)"
   ]
  },
  {
   "cell_type": "markdown",
   "metadata": {},
   "source": [
    "#### Make a multiple sequence alignment to be able to adjust alignment of the scores"
   ]
  },
  {
   "cell_type": "code",
   "execution_count": 19,
   "metadata": {},
   "outputs": [],
   "source": [
    "def align_sequences(uid_list, seq_list):\n",
    "    '''\n",
    "    Make a multiple sequence alignment of the sequences.\n",
    "    Make sure result is in the same order.\n",
    "    '''\n",
    "    # assemble virtual fasta file\n",
    "    record_list = []\n",
    "    for uid, seq in zip(uid_list, seq_list):\n",
    "        record_list.append('>{}\\n{}'.format(uid, seq))\n",
    "    records = '\\n'.join(record_list)\n",
    "\n",
    "    records_handle = io.StringIO(records) #turn string into a handle\n",
    "    tempdata = records_handle.getvalue()\n",
    "\n",
    "    # carry out the alignment\n",
    "    muscle_cline = MuscleCommandline()\n",
    "    stdout, stderr = muscle_cline(stdin=tempdata)\n",
    "\n",
    "    with io.StringIO(stdout) as fasta:\n",
    "        aln = SeqIO.parse(fasta, \"fasta\")\n",
    "\n",
    "        alignment_dict = {}\n",
    "        for entry in aln:\n",
    "            header = entry.description\n",
    "            seq = entry.seq\n",
    "\n",
    "            alignment_dict[header] = (str(seq))\n",
    "\n",
    "    # make an output list with the sequences in the correct order\n",
    "    alignment = []\n",
    "    for uid in uid_list:\n",
    "        alignment.append(alignment_dict[uid])\n",
    "    \n",
    "    return alignment\n",
    "\n",
    "\n",
    "alignment = align_sequences(uid_list, seq_list)"
   ]
  },
  {
   "cell_type": "markdown",
   "metadata": {},
   "source": [
    "#### Visualize the alignment"
   ]
  },
  {
   "cell_type": "code",
   "execution_count": 141,
   "metadata": {},
   "outputs": [],
   "source": [
    "# similarity\n",
    "\n",
    "        "
   ]
  },
  {
   "cell_type": "code",
   "execution_count": null,
   "metadata": {},
   "outputs": [],
   "source": [
    "# conservation\n"
   ]
  },
  {
   "cell_type": "code",
   "execution_count": 74,
   "metadata": {},
   "outputs": [
    {
     "data": {
      "text/plain": [
       "array([1, 3, 4, 2, 3])"
      ]
     },
     "execution_count": 74,
     "metadata": {},
     "output_type": "execute_result"
    }
   ],
   "source": [
    "np.insert([1,2,3], [1,1], [3,4])"
   ]
  },
  {
   "cell_type": "code",
   "execution_count": 76,
   "metadata": {},
   "outputs": [
    {
     "data": {
      "text/plain": [
       "array([1, 3, 5])"
      ]
     },
     "execution_count": 76,
     "metadata": {},
     "output_type": "execute_result"
    }
   ],
   "source": [
    "self.pdb_obj.res_seqnum[chain] = np.insert(self.pdb_obj.res_seqnum[chain],\n",
    "                                        self.pdb_obj.structure_gaps[chain],\n",
    "                                        np.choose(self.pdb_obj.structure_gaps[chain], np.array(self.pdb_obj.seqres_seqnum[chain])))\n"
   ]
  },
  {
   "cell_type": "markdown",
   "metadata": {},
   "source": [
    "#### Fill up the z-score with NaN, where the multiple sequence alignment has gaps"
   ]
  },
  {
   "cell_type": "code",
   "execution_count": 20,
   "metadata": {},
   "outputs": [],
   "source": [
    "def add_gaps_to_scores(z_scores, changes, alignment):\n",
    "    '''\n",
    "    Add NaNs to the Z-scores and changes, corresponding\n",
    "    to the multiple alignment positions where there are gaps.\n",
    "    '''\n",
    "    z_scores_fixed = []\n",
    "    changes_fixed = []\n",
    "    for seq_idx in range(0, len(alignment)):\n",
    "\n",
    "        insertions = []\n",
    "        real_aa_counter = 0\n",
    "        for pos_idx in range(0, len(alignment[seq_idx])):\n",
    "            if alignment[seq_idx][pos_idx] == '-':\n",
    "                insertions.append(real_aa_counter)\n",
    "            else:\n",
    "                real_aa_counter += 1\n",
    "\n",
    "        z_scores_fixed.append(np.insert(z_scores[seq_idx], insertions, np.nan))\n",
    "        changes_fixed.append(np.insert(changes[seq_idx], insertions, np.nan))\n",
    "        \n",
    "    return z_scores_fixed, changes_fixed\n",
    "\n",
    "\n",
    "z_scores_fixed, changes_fixed = add_gaps_to_scores(z_scores, changes, alignment)"
   ]
  },
  {
   "cell_type": "code",
   "execution_count": 21,
   "metadata": {},
   "outputs": [
    {
     "data": {
      "text/plain": [
       "<matplotlib.image.AxesImage at 0x7f8e6dbf4ba8>"
      ]
     },
     "execution_count": 21,
     "metadata": {},
     "output_type": "execute_result"
    },
    {
     "data": {
      "image/png": "[encoded data removed]",
      "text/plain": [
       "<Figure size 1296x144 with 1 Axes>"
      ]
     },
     "metadata": {
      "needs_background": "light"
     },
     "output_type": "display_data"
    }
   ],
   "source": [
    "# visualize the percent changes\n",
    "fig, ax = plt.subplots(figsize=(18, 2))\n",
    "\n",
    "data = np.array(changes_fixed)\n",
    "ax.imshow(data,\n",
    "         interpolation='none',\n",
    "         cmap='bwr',\n",
    "         aspect='auto',\n",
    "         vmin=-np.nanmax(np.abs(data)),\n",
    "         vmax=np.nanmax(np.abs(data)))"
   ]
  },
  {
   "cell_type": "code",
   "execution_count": 22,
   "metadata": {},
   "outputs": [
    {
     "data": {
      "text/plain": [
       "<matplotlib.image.AxesImage at 0x7f8e6d159ac8>"
      ]
     },
     "execution_count": 22,
     "metadata": {},
     "output_type": "execute_result"
    },
    {
     "data": {
      "image/png": "[encoded data removed]",
      "text/plain": [
       "<Figure size 1296x144 with 1 Axes>"
      ]
     },
     "metadata": {
      "needs_background": "light"
     },
     "output_type": "display_data"
    }
   ],
   "source": [
    "# visualize the z-scores\n",
    "fig, ax = plt.subplots(figsize=(18, 2))\n",
    "\n",
    "data = np.array(z_scores_fixed)\n",
    "ax.imshow(data,\n",
    "         interpolation='none',\n",
    "         cmap='bwr',\n",
    "         aspect='auto',\n",
    "         vmin=-np.nanmax(np.abs(data)),\n",
    "         vmax=np.nanmax(np.abs(data)))"
   ]
  },
  {
   "cell_type": "code",
   "execution_count": 31,
   "metadata": {},
   "outputs": [
    {
     "data": {
      "text/plain": [
       "<matplotlib.image.AxesImage at 0x7f8e66ea0160>"
      ]
     },
     "execution_count": 31,
     "metadata": {},
     "output_type": "execute_result"
    },
    {
     "data": {
      "image/png": "[encoded data removed]",
      "text/plain": [
       "<Figure size 1296x144 with 1 Axes>"
      ]
     },
     "metadata": {
      "needs_background": "light"
     },
     "output_type": "display_data"
    }
   ],
   "source": [
    "# visualize attention\n",
    "fig, ax = plt.subplots(figsize=(18, 2))\n",
    "\n",
    "data = np.array(z_scores_fixed)\n",
    "ax.imshow(np.abs(data),\n",
    "         interpolation='none',\n",
    "         cmap='gray_r',\n",
    "         aspect='auto',\n",
    "         vmin=0,\n",
    "         vmax=np.nanmax(np.abs(data)))"
   ]
  },
  {
   "cell_type": "code",
   "execution_count": 38,
   "metadata": {},
   "outputs": [
    {
     "data": {
      "text/plain": [
       "'H0HC94'"
      ]
     },
     "execution_count": 38,
     "metadata": {},
     "output_type": "execute_result"
    }
   ],
   "source": [
    "uid = uid_list[0]\n",
    "uid"
   ]
  },
  {
   "cell_type": "markdown",
   "metadata": {},
   "source": [
    "#### 3d occlusion"
   ]
  },
  {
   "cell_type": "code",
   "execution_count": 169,
   "metadata": {},
   "outputs": [
    {
     "name": "stderr",
     "output_type": "stream",
     "text": [
      "/home/martin/miniconda3/envs/deepet/lib/python3.6/site-packages/ipykernel_launcher.py:33: RuntimeWarning: invalid value encountered in less\n"
     ]
    },
    {
     "name": "stdout",
     "output_type": "stream",
     "text": [
      "1\n",
      "1\n",
      "1\n",
      "1\n",
      "1\n",
      "1\n",
      "1\n",
      "1\n",
      "1\n",
      "1\n",
      "1\n",
      "1\n",
      "1\n",
      "1\n",
      "1\n",
      "1\n",
      "1\n",
      "1\n",
      "1\n",
      "1\n",
      "1\n",
      "1\n",
      "1\n",
      "1\n",
      "1\n",
      "1\n",
      "1\n",
      "1\n",
      "1\n",
      "1\n",
      "1\n",
      "1\n",
      "2\n",
      "2\n",
      "1\n",
      "2\n",
      "2\n",
      "2\n",
      "3\n",
      "1\n",
      "2\n",
      "1\n",
      "1\n",
      "1\n",
      "1\n",
      "1\n",
      "1\n",
      "1\n",
      "1\n",
      "3\n",
      "1\n",
      "1\n",
      "2\n",
      "1\n",
      "1\n",
      "1\n",
      "3\n",
      "1\n",
      "1\n",
      "3\n",
      "2\n",
      "3\n",
      "4\n",
      "1\n",
      "1\n",
      "3\n",
      "1\n",
      "2\n",
      "1\n",
      "3\n",
      "3\n",
      "1\n",
      "3\n",
      "2\n",
      "1\n",
      "1\n",
      "2\n",
      "1\n",
      "1\n",
      "2\n",
      "2\n",
      "2\n",
      "1\n",
      "2\n",
      "1\n",
      "2\n",
      "2\n",
      "1\n",
      "3\n",
      "1\n",
      "1\n",
      "4\n",
      "2\n",
      "2\n",
      "3\n",
      "2\n",
      "2\n",
      "1\n",
      "3\n",
      "3\n",
      "1\n",
      "1\n",
      "2\n",
      "5\n",
      "3\n",
      "2\n",
      "2\n",
      "1\n",
      "2\n",
      "2\n",
      "1\n",
      "2\n",
      "1\n",
      "2\n",
      "1\n",
      "3\n",
      "2\n",
      "2\n",
      "4\n",
      "3\n",
      "4\n",
      "1\n",
      "2\n",
      "2\n",
      "2\n",
      "3\n",
      "2\n",
      "3\n",
      "3\n",
      "3\n",
      "3\n",
      "3\n",
      "2\n",
      "2\n",
      "2\n",
      "2\n",
      "1\n",
      "1\n",
      "1\n",
      "1\n",
      "1\n",
      "1\n",
      "1\n",
      "1\n",
      "2\n",
      "4\n",
      "2\n",
      "2\n",
      "3\n",
      "2\n",
      "2\n",
      "2\n",
      "3\n",
      "2\n",
      "2\n",
      "2\n",
      "3\n",
      "1\n",
      "1\n",
      "3\n",
      "1\n",
      "2\n",
      "3\n",
      "1\n",
      "1\n",
      "1\n",
      "2\n",
      "2\n",
      "2\n",
      "2\n",
      "1\n",
      "1\n",
      "1\n",
      "1\n",
      "1\n",
      "1\n",
      "2\n",
      "1\n",
      "1\n",
      "3\n",
      "4\n",
      "2\n",
      "4\n",
      "3\n",
      "2\n",
      "1\n",
      "1\n",
      "1\n",
      "1\n",
      "3\n",
      "3\n",
      "1\n",
      "2\n",
      "2\n",
      "2\n",
      "3\n",
      "1\n",
      "3\n",
      "1\n",
      "3\n",
      "1\n",
      "2\n",
      "1\n",
      "1\n",
      "1\n"
     ]
    }
   ],
   "source": [
    "from Bio import SeqIO\n",
    "inf_obj = DeepETInference(model='ogt', layer='flatten_1')\n",
    "\n",
    "# parse the structure\n",
    "# parser_obj = pfc.PDBReader(join('./data', 'pdb', 'Q47RA9_5n2i.pdb'), join('./data', 'Q47RA9_5n2i_temp.pdb'))\n",
    "parser_obj = pfc.PDBReader('./data/1r3u.pdb', './data/1r3u_temp.pdb')\n",
    "\n",
    "# compute distance matrix\n",
    "dist_obj = pfc.PDBDistances(parser_obj)\n",
    "\n",
    "dist_obj.intra_chain_pairwise_aa_distance_matrix()\n",
    "dist_mat_df = dist_obj.feature_pdm_intra\n",
    "\n",
    "# get th sequence and convert to binary\n",
    "seq = to_binary(''.join(dist_obj.pdb_obj.seqres['A']).rstrip('*'))\n",
    "\n",
    "ALANINE = [1,0,0,0,0,0,0,0,0,0,0,0,0,0,0,0,0,0,0,0] # sets global variable ALANINE as a one hot representation of alanine\n",
    "NOTHING = [0,0,0,0,0,0,0,0,0,0,0,0,0,0,0,0,0,0,0,0] # sets global variable NOTHING as a one hot representation that's empty\n",
    "PADDING = 2000\n",
    "radius = 5\n",
    "\n",
    "\n",
    "# first predict the unchanged sequence\n",
    "original_seq = zero_padding(seq, PADDING)\n",
    "wt_pred = inf_obj.model.predict( original_seq.reshape([1, original_seq.shape[0], original_seq.shape[1]]) )[0]\n",
    "\n",
    "size_seq = len(seq)\n",
    "start = dist_mat_df.index.values[0]-1\n",
    "end = dist_mat_df.index.values[-1]\n",
    "\n",
    "# determine which \"contacts\" are within a specific radius, as boolean array\n",
    "contacts_bool = np.zeros([size_seq, size_seq], dtype=bool)\n",
    "contacts_bool[start:end, start:end] = dist_mat_df.values[:, :] < radius\n",
    "\n",
    "seqs = []\n",
    "for i in range(contacts_bool.shape[0]):\n",
    "    # I also want to zero out the amino acid under consideration\n",
    "    contacts_bool[i][i] = True\n",
    "    \n",
    "    # for each index (aa pos) occlude everything it is in proximity to (but neighbors are excempt)\n",
    "    tmp = np.zeros([seq.shape[0], seq.shape[1]])\n",
    "    tmp[contacts_bool[i,:], :] = NOTHING # Setting all amino acids within radius to nothing\n",
    "    print(sum(contacts_bool[i,:]))\n",
    "    tmp[~contacts_bool[i,:], :] = seq[~contacts_bool[i,:], :] # For the non-touching positions, add in the amino acids\n",
    "    \n",
    "    #pads sequence to constant length of PADDING to fit model\n",
    "    tmp = zero_padding(tmp, PADDING) \n",
    "    seqs.append(tmp)\n",
    "\n",
    "seqs = np.array(seqs)\n",
    "    \n",
    "# predict for the occluded sequences\n",
    "predictions = inf_obj.model.predict(seqs)\n",
    "\n",
    "# compute the change in temperature, as a fraction of the WT prediction\n",
    "change = (wt_pred - predictions) / wt_pred\n",
    "\n",
    "# compute a z-score\n",
    "z_score = (change-np.mean(change))/np.std(change)"
   ]
  },
  {
   "cell_type": "code",
   "execution_count": 170,
   "metadata": {},
   "outputs": [
    {
     "data": {
      "text/plain": [
       "[<matplotlib.lines.Line2D at 0x7f8e621917b8>]"
      ]
     },
     "execution_count": 170,
     "metadata": {},
     "output_type": "execute_result"
    },
    {
     "data": {
      "image/png": "[encoded data removed]",
      "text/plain": [
       "<Figure size 432x288 with 1 Axes>"
      ]
     },
     "metadata": {
      "needs_background": "light"
     },
     "output_type": "display_data"
    }
   ],
   "source": [
    "plt.plot(z_score)"
   ]
  },
  {
   "cell_type": "code",
   "execution_count": 160,
   "metadata": {},
   "outputs": [
    {
     "data": {
      "text/plain": [
       "[<matplotlib.lines.Line2D at 0x7f8e63a3df60>]"
      ]
     },
     "execution_count": 160,
     "metadata": {},
     "output_type": "execute_result"
    },
    {
     "data": {
      "image/png": "[encoded data removed]",
      "text/plain": [
       "<Figure size 432x288 with 1 Axes>"
      ]
     },
     "metadata": {
      "needs_background": "light"
     },
     "output_type": "display_data"
    }
   ],
   "source": [
    "plt.plot(z_score)"
   ]
  },
  {
   "cell_type": "code",
   "execution_count": 164,
   "metadata": {},
   "outputs": [
    {
     "data": {
      "text/plain": [
       "array([1., 0., 0., 0., 0., 0., 0., 0., 0., 0., 0., 0., 0., 0., 0., 0., 0.,\n",
       "       0., 0., 0.])"
      ]
     },
     "execution_count": 164,
     "metadata": {},
     "output_type": "execute_result"
    }
   ],
   "source": [
    "seqs[1][1]"
   ]
  },
  {
   "cell_type": "code",
   "execution_count": 165,
   "metadata": {},
   "outputs": [
    {
     "data": {
      "text/plain": [
       "['M',\n",
       " 'A',\n",
       " 'S',\n",
       " 'M',\n",
       " 'T',\n",
       " 'G',\n",
       " 'G',\n",
       " 'Q',\n",
       " 'Q',\n",
       " 'M',\n",
       " 'G',\n",
       " 'R',\n",
       " 'G',\n",
       " 'S',\n",
       " 'S',\n",
       " 'T',\n",
       " 'S',\n",
       " 'L',\n",
       " 'Y',\n",
       " 'K',\n",
       " 'K',\n",
       " 'A',\n",
       " 'G',\n",
       " 'L',\n",
       " 'M',\n",
       " 'P',\n",
       " 'S',\n",
       " 'P',\n",
       " 'M',\n",
       " 'E',\n",
       " 'D',\n",
       " 'I',\n",
       " 'E',\n",
       " 'E',\n",
       " 'I',\n",
       " 'L',\n",
       " 'I',\n",
       " 'T',\n",
       " 'E',\n",
       " 'E',\n",
       " 'Q',\n",
       " 'L',\n",
       " 'K',\n",
       " 'A',\n",
       " 'K',\n",
       " 'V',\n",
       " 'K',\n",
       " 'E',\n",
       " 'L',\n",
       " 'G',\n",
       " 'E',\n",
       " 'M',\n",
       " 'I',\n",
       " 'T',\n",
       " 'R',\n",
       " 'D',\n",
       " 'Y',\n",
       " 'E',\n",
       " 'G',\n",
       " 'K',\n",
       " 'D',\n",
       " 'L',\n",
       " 'V',\n",
       " 'L',\n",
       " 'I',\n",
       " 'G',\n",
       " 'V',\n",
       " 'L',\n",
       " 'K',\n",
       " 'G',\n",
       " 'A',\n",
       " 'I',\n",
       " 'M',\n",
       " 'F',\n",
       " 'M',\n",
       " 'S',\n",
       " 'G',\n",
       " 'L',\n",
       " 'S',\n",
       " 'R',\n",
       " 'A',\n",
       " 'I',\n",
       " 'D',\n",
       " 'L',\n",
       " 'P',\n",
       " 'L',\n",
       " 'S',\n",
       " 'I',\n",
       " 'D',\n",
       " 'F',\n",
       " 'L',\n",
       " 'A',\n",
       " 'V',\n",
       " 'S',\n",
       " 'S',\n",
       " 'Y',\n",
       " 'G',\n",
       " 'S',\n",
       " 'S',\n",
       " 'T',\n",
       " 'K',\n",
       " 'S',\n",
       " 'S',\n",
       " 'G',\n",
       " 'I',\n",
       " 'V',\n",
       " 'K',\n",
       " 'I',\n",
       " 'I',\n",
       " 'K',\n",
       " 'D',\n",
       " 'H',\n",
       " 'D',\n",
       " 'I',\n",
       " 'D',\n",
       " 'I',\n",
       " 'E',\n",
       " 'G',\n",
       " 'K',\n",
       " 'D',\n",
       " 'V',\n",
       " 'L',\n",
       " 'I',\n",
       " 'V',\n",
       " 'E',\n",
       " 'D',\n",
       " 'I',\n",
       " 'I',\n",
       " 'D',\n",
       " 'S',\n",
       " 'G',\n",
       " 'L',\n",
       " 'T',\n",
       " 'L',\n",
       " 'A',\n",
       " 'Y',\n",
       " 'L',\n",
       " 'R',\n",
       " 'E',\n",
       " 'T',\n",
       " 'L',\n",
       " 'L',\n",
       " 'G',\n",
       " 'R',\n",
       " 'K',\n",
       " 'P',\n",
       " 'R',\n",
       " 'S',\n",
       " 'L',\n",
       " 'K',\n",
       " 'I',\n",
       " 'C',\n",
       " 'T',\n",
       " 'I',\n",
       " 'L',\n",
       " 'D',\n",
       " 'K',\n",
       " 'P',\n",
       " 'E',\n",
       " 'R',\n",
       " 'R',\n",
       " 'E',\n",
       " 'A',\n",
       " 'D',\n",
       " 'V',\n",
       " 'K',\n",
       " 'V',\n",
       " 'D',\n",
       " 'Y',\n",
       " 'C',\n",
       " 'G',\n",
       " 'F',\n",
       " 'K',\n",
       " 'I',\n",
       " 'P',\n",
       " 'D',\n",
       " 'K',\n",
       " 'F',\n",
       " 'V',\n",
       " 'V',\n",
       " 'G',\n",
       " 'Y',\n",
       " 'G',\n",
       " 'L',\n",
       " 'D',\n",
       " 'Y',\n",
       " 'A',\n",
       " 'E',\n",
       " 'K',\n",
       " 'Y',\n",
       " 'R',\n",
       " 'N',\n",
       " 'L',\n",
       " 'P',\n",
       " 'F',\n",
       " 'I',\n",
       " 'G',\n",
       " 'V',\n",
       " 'L',\n",
       " 'K',\n",
       " 'P',\n",
       " 'E',\n",
       " 'L',\n",
       " 'Y',\n",
       " 'K']"
      ]
     },
     "execution_count": 165,
     "metadata": {},
     "output_type": "execute_result"
    }
   ],
   "source": [
    "dist_obj.pdb_obj.seqres['A']"
   ]
  },
  {
   "cell_type": "code",
   "execution_count": 168,
   "metadata": {},
   "outputs": [
    {
     "data": {
      "text/plain": [
       "(205, 205)"
      ]
     },
     "execution_count": 168,
     "metadata": {},
     "output_type": "execute_result"
    }
   ],
   "source": [
    "contacts_bool.shape"
   ]
  },
  {
   "cell_type": "code",
   "execution_count": null,
   "metadata": {},
   "outputs": [],
   "source": []
  },
  {
   "cell_type": "markdown",
   "metadata": {},
   "source": [
    "### Other stuff"
   ]
  },
  {
   "cell_type": "code",
   "execution_count": 40,
   "metadata": {},
   "outputs": [
    {
     "ename": "TypeError",
     "evalue": "bad operand type for abs(): 'list'",
     "output_type": "error",
     "traceback": [
      "\u001b[0;31m---------------------------------------------------------------------------\u001b[0m",
      "\u001b[0;31mTypeError\u001b[0m                                 Traceback (most recent call last)",
      "\u001b[0;32m<ipython-input-40-9ebef93c2ef3>\u001b[0m in \u001b[0;36m<module>\u001b[0;34m\u001b[0m\n\u001b[1;32m     20\u001b[0m \u001b[0;34m\u001b[0m\u001b[0m\n\u001b[1;32m     21\u001b[0m \u001b[0;31m# a data normalizer\u001b[0m\u001b[0;34m\u001b[0m\u001b[0;34m\u001b[0m\u001b[0;34m\u001b[0m\u001b[0m\n\u001b[0;32m---> 22\u001b[0;31m \u001b[0mnorm\u001b[0m \u001b[0;34m=\u001b[0m \u001b[0mmatplotlib\u001b[0m\u001b[0;34m.\u001b[0m\u001b[0mcolors\u001b[0m\u001b[0;34m.\u001b[0m\u001b[0mNormalize\u001b[0m\u001b[0;34m(\u001b[0m\u001b[0mvmin\u001b[0m\u001b[0;34m=\u001b[0m\u001b[0;34m-\u001b[0m\u001b[0mabs\u001b[0m\u001b[0;34m(\u001b[0m\u001b[0mz_score\u001b[0m\u001b[0;34m)\u001b[0m\u001b[0;34m.\u001b[0m\u001b[0mmax\u001b[0m\u001b[0;34m(\u001b[0m\u001b[0;34m)\u001b[0m\u001b[0;34m,\u001b[0m \u001b[0mvmax\u001b[0m\u001b[0;34m=\u001b[0m\u001b[0mabs\u001b[0m\u001b[0;34m(\u001b[0m\u001b[0mz_score\u001b[0m\u001b[0;34m)\u001b[0m\u001b[0;34m.\u001b[0m\u001b[0mmax\u001b[0m\u001b[0;34m(\u001b[0m\u001b[0;34m)\u001b[0m\u001b[0;34m)\u001b[0m\u001b[0;34m\u001b[0m\u001b[0;34m\u001b[0m\u001b[0m\n\u001b[0m\u001b[1;32m     23\u001b[0m \u001b[0;34m\u001b[0m\u001b[0m\n\u001b[1;32m     24\u001b[0m \u001b[0;32mfor\u001b[0m \u001b[0mi\u001b[0m \u001b[0;32min\u001b[0m \u001b[0mrange\u001b[0m\u001b[0;34m(\u001b[0m\u001b[0;36m0\u001b[0m\u001b[0;34m,\u001b[0m \u001b[0mlen\u001b[0m\u001b[0;34m(\u001b[0m\u001b[0mseq\u001b[0m\u001b[0;34m)\u001b[0m\u001b[0;34m)\u001b[0m\u001b[0;34m:\u001b[0m\u001b[0;34m\u001b[0m\u001b[0;34m\u001b[0m\u001b[0m\n",
      "\u001b[0;31mTypeError\u001b[0m: bad operand type for abs(): 'list'"
     ]
    }
   ],
   "source": [
    "### Need to fix this to ensure I'm actually coloring the correct position ##\n",
    "\n",
    "seq = seq_list[0]\n",
    "z_score = z_scores[0]\n",
    "pdb_id = 'modbase'\n",
    "\n",
    "outlines = []\n",
    "outlines.append('bg_color white')\n",
    "outlines.append('as cartoon')\n",
    "outlines.append('set cartoon_discrete_colors, 1')\n",
    "outlines.append('set cartoon_oval_length, 1.0')\n",
    "outlines.append('set cartoon_oval_width, 0.2')\n",
    "outlines.append('set ray_trace_mode, 1')\n",
    "outlines.append('set ray_trace_gain, 0.1')\n",
    "outlines.append('set ray_shadows, 0')\n",
    "outlines.append('set ambient, 2')\n",
    "outlines.append('set antialias, 3')\n",
    "outlines.append('unset specular')\n",
    "\n",
    "# prepare the colormap\n",
    "cmap = matplotlib.cm.get_cmap('bwr')\n",
    "\n",
    "# a data normalizer\n",
    "norm = matplotlib.colors.Normalize(vmin=-abs(z_score).max(), vmax=abs(z_score).max())\n",
    "\n",
    "for i in range(0, len(seq)):\n",
    "    # get the rgba color for this value\n",
    "    if i < len(z_score):\n",
    "        val = z_score[i]\n",
    "        \n",
    "        if val == np.nan:\n",
    "            color = '0xFFFFFF'\n",
    "        else:\n",
    "            rgba = cmap(norm(val))\n",
    "\n",
    "            # convert to hex\n",
    "            hex_col = matplotlib.colors.to_hex(rgba, keep_alpha=False)\n",
    "            color = hex_col.upper().replace('#', '0x')\n",
    "        \n",
    "    else:\n",
    "        color = '0xFFFFFF'\n",
    "    \n",
    "    # color by category\n",
    "    outlines.append('color {}, resi {}'.format(color, i+1))\n",
    "        \n",
    "# hide hydeogen atoms\n",
    "outlines.append('hide (hydro)')\n",
    "\n",
    "with open('{}_pymol_coloring_script_z-score.pml'.format(pdb_id), 'w') as f:\n",
    "    f.write('\\n'.join(outlines))"
   ]
  },
  {
   "cell_type": "markdown",
   "metadata": {},
   "source": [
    "#### Visualize adjusted scores as image, with sequences sorted according to temperature"
   ]
  },
  {
   "cell_type": "code",
   "execution_count": 234,
   "metadata": {},
   "outputs": [
    {
     "data": {
      "image/png": "[encoded data removed]",
      "text/plain": [
       "<Figure size 432x288 with 1 Axes>"
      ]
     },
     "metadata": {
      "needs_background": "light"
     },
     "output_type": "display_data"
    }
   ],
   "source": [
    "for z in z_scores_fixed:\n",
    "    plt.plot(z)"
   ]
  },
  {
   "cell_type": "code",
   "execution_count": 239,
   "metadata": {},
   "outputs": [
    {
     "data": {
      "text/plain": [
       "[<matplotlib.lines.Line2D at 0x7fe7bb06d550>]"
      ]
     },
     "execution_count": 239,
     "metadata": {},
     "output_type": "execute_result"
    },
    {
     "data": {
      "image/png": "[encoded data removed]",
      "text/plain": [
       "<Figure size 432x288 with 1 Axes>"
      ]
     },
     "metadata": {
      "needs_background": "light"
     },
     "output_type": "display_data"
    }
   ],
   "source": [
    "plt.plot(np.nansum(z_scores_fixed, axis=0))"
   ]
  },
  {
   "cell_type": "code",
   "execution_count": 46,
   "metadata": {},
   "outputs": [
    {
     "name": "stderr",
     "output_type": "stream",
     "text": [
      "/home/martin/miniconda3/envs/deepet/lib/python3.6/site-packages/Bio/PDB/StructureBuilder.py:92: PDBConstructionWarning: WARNING: Chain A is discontinuous at line 3408.\n",
      "  PDBConstructionWarning,\n",
      "/home/martin/miniconda3/envs/deepet/lib/python3.6/site-packages/Bio/PDB/StructureBuilder.py:92: PDBConstructionWarning: WARNING: Chain B is discontinuous at line 3409.\n",
      "  PDBConstructionWarning,\n",
      "/home/martin/miniconda3/envs/deepet/lib/python3.6/site-packages/Bio/PDB/StructureBuilder.py:92: PDBConstructionWarning: WARNING: Chain A is discontinuous at line 3414.\n",
      "  PDBConstructionWarning,\n",
      "/home/martin/miniconda3/envs/deepet/lib/python3.6/site-packages/Bio/PDB/StructureBuilder.py:92: PDBConstructionWarning: WARNING: Chain B is discontinuous at line 3472.\n",
      "  PDBConstructionWarning,\n"
     ]
    }
   ],
   "source": [
    "from Bio.PDB import PDBParser\n",
    "\n",
    "struct = PDBParser().get_structure(id='x', file=\"data/1r3u.pdb\")"
   ]
  },
  {
   "cell_type": "code",
   "execution_count": null,
   "metadata": {},
   "outputs": [],
   "source": []
  },
  {
   "cell_type": "code",
   "execution_count": null,
   "metadata": {},
   "outputs": [],
   "source": []
  },
  {
   "cell_type": "markdown",
   "metadata": {},
   "source": [
    "#### Scraps"
   ]
  },
  {
   "cell_type": "code",
   "execution_count": null,
   "metadata": {},
   "outputs": [],
   "source": []
  },
  {
   "cell_type": "code",
   "execution_count": null,
   "metadata": {},
   "outputs": [],
   "source": []
  },
  {
   "cell_type": "code",
   "execution_count": null,
   "metadata": {},
   "outputs": [],
   "source": []
  },
  {
   "cell_type": "code",
   "execution_count": 10,
   "metadata": {},
   "outputs": [
    {
     "name": "stdout",
     "output_type": "stream",
     "text": [
      "chain A\n",
      "MASMTGGQQMGRGSSTSLYKKAGLMPSPMEDIEEILITEEQLKAKVKELGEMITRDYEGKDLVLIGVLKGAIMFMSGLSRAIDLPLSIDFLAVSSYGSSTKSSGIVKIIKDHDIDIEGKDVLIVEDIIDSGLTLAYLRETLLGRKPRSLKICTILDKPERREADVKVDYCGFKIPDKFVVGYGLDYAEKYRNLPFIGVLKPELYK\n",
      "chain B\n",
      "MASMTGGQQMGRGSSTSLYKKAGLMPSPMEDIEEILITEEQLKAKVKELGEMITRDYEGKDLVLIGVLKGAIMFMSGLSRAIDLPLSIDFLAVSSYGSSTKSSGIVKIIKDHDIDIEGKDVLIVEDIIDSGLTLAYLRETLLGRKPRSLKICTILDKPERREADVKVDYCGFKIPDKFVVGYGLDYAEKYRNLPFIGVLKPELYK\n"
     ]
    }
   ],
   "source": [
    "\n",
    "\n",
    "\n",
    "    \n",
    "# extract seq for all chains\n",
    "# extract atom seq for all chains\n",
    "# group by similarity\n",
    "# for each group make multiple sequence alignment\n",
    "# assign positions\n",
    "\n",
    "# when reading the pdb file coordinates, assign each amino acid to the correct position"
   ]
  },
  {
   "cell_type": "code",
   "execution_count": null,
   "metadata": {},
   "outputs": [],
   "source": []
  },
  {
   "cell_type": "code",
   "execution_count": null,
   "metadata": {},
   "outputs": [],
   "source": []
  },
  {
   "cell_type": "markdown",
   "metadata": {},
   "source": [
    "### What does the model look at to determine temperature?"
   ]
  },
  {
   "cell_type": "code",
   "execution_count": null,
   "metadata": {},
   "outputs": [],
   "source": []
  },
  {
   "cell_type": "code",
   "execution_count": null,
   "metadata": {},
   "outputs": [],
   "source": []
  },
  {
   "cell_type": "code",
   "execution_count": 10,
   "metadata": {},
   "outputs": [],
   "source": []
  },
  {
   "cell_type": "code",
   "execution_count": null,
   "metadata": {},
   "outputs": [],
   "source": []
  },
  {
   "cell_type": "code",
   "execution_count": null,
   "metadata": {},
   "outputs": [],
   "source": []
  }
 ],
 "metadata": {
  "kernelspec": {
   "display_name": "Python 3",
   "language": "python",
   "name": "python3"
  },
  "language_info": {
   "codemirror_mode": {
    "name": "ipython",
    "version": 3
   },
   "file_extension": ".py",
   "mimetype": "text/x-python",
   "name": "python",
   "nbconvert_exporter": "python",
   "pygments_lexer": "ipython3",
   "version": "3.7.9"
  }
 },
 "nbformat": 4,
 "nbformat_minor": 5
}
